{
  "nbformat": 4,
  "nbformat_minor": 0,
  "metadata": {
    "colab": {
      "name": "NMT-preprosseing.ipynb",
      "provenance": [],
      "collapsed_sections": [],
      "mount_file_id": "1JEuPzdg8YfW-efUAHCTWwjdNwolBzCL0",
      "authorship_tag": "ABX9TyM0vcdidbW7MgbU/ThAeORS",
      "include_colab_link": true
    },
    "kernelspec": {
      "name": "python3",
      "display_name": "Python 3"
    },
    "language_info": {
      "name": "python"
    }
  },
  "cells": [
    {
      "cell_type": "markdown",
      "metadata": {
        "id": "view-in-github",
        "colab_type": "text"
      },
      "source": [
        "<a href=\"https://colab.research.google.com/github/MayankkumarTank/16-bit-Microprocessor-without-interlocked-pipeline-stages-in-verilog/blob/master/NMT_preprosseing.ipynb\" target=\"_parent\"><img src=\"https://colab.research.google.com/assets/colab-badge.svg\" alt=\"Open In Colab\"/></a>"
      ]
    },
    {
      "cell_type": "code",
      "metadata": {
        "colab": {
          "base_uri": "https://localhost:8080/"
        },
        "id": "YYXaC8VWb6O_",
        "outputId": "d9a0286f-e960-4cf9-f2b0-f56cd23de524"
      },
      "source": [
        "from google.colab import drive\n",
        "drive.mount('/content/drive')"
      ],
      "execution_count": null,
      "outputs": [
        {
          "output_type": "stream",
          "text": [
            "Drive already mounted at /content/drive; to attempt to forcibly remount, call drive.mount(\"/content/drive\", force_remount=True).\n"
          ],
          "name": "stdout"
        }
      ]
    },
    {
      "cell_type": "code",
      "metadata": {
        "colab": {
          "base_uri": "https://localhost:8080/"
        },
        "id": "qonfZO_qet7D",
        "outputId": "afbd5cc2-ebab-429d-b88a-0a08811600a6"
      },
      "source": [
        "% cd /content/drive/MyDrive/NLP"
      ],
      "execution_count": null,
      "outputs": [
        {
          "output_type": "stream",
          "text": [
            "/content/drive/MyDrive/NLP\n"
          ],
          "name": "stdout"
        }
      ]
    },
    {
      "cell_type": "code",
      "metadata": {
        "colab": {
          "base_uri": "https://localhost:8080/"
        },
        "id": "KSsRvRuVex7F",
        "outputId": "19009ffb-a50e-4a03-a5b6-34c28a1c655a"
      },
      "source": [
        "%ls"
      ],
      "execution_count": null,
      "outputs": [
        {
          "output_type": "stream",
          "text": [
            "Hindi_English_Truncated_Corpus.csv  newdata.csv\n"
          ],
          "name": "stdout"
        }
      ]
    },
    {
      "cell_type": "code",
      "metadata": {
        "id": "WGVCIUq_e9Sc"
      },
      "source": [
        "import pandas as pd\n",
        "import numpy as np\n",
        "import os\n",
        "import string\n",
        "from string import digits\n",
        "import matplotlib.pyplot as plt\n",
        "%matplotlib inline\n",
        "import re\n",
        "\n",
        "import seaborn as sns\n",
        "from sklearn.utils import shuffle\n",
        "from sklearn.model_selection import train_test_split\n",
        "from keras.layers import Input, LSTM, Embedding, Dense\n",
        "from keras.models import Model"
      ],
      "execution_count": null,
      "outputs": []
    },
    {
      "cell_type": "code",
      "metadata": {
        "colab": {
          "base_uri": "https://localhost:8080/",
          "height": 204
        },
        "id": "-__-9_Ble0MW",
        "outputId": "1b401e40-1ee3-40cc-eecf-c5dd10ea6f1d"
      },
      "source": [
        "data= pd.read_csv(\"Hindi_English_Truncated_Corpus.csv\")\n",
        "\n",
        "data.head()"
      ],
      "execution_count": null,
      "outputs": [
        {
          "output_type": "execute_result",
          "data": {
            "text/html": [
              "<div>\n",
              "<style scoped>\n",
              "    .dataframe tbody tr th:only-of-type {\n",
              "        vertical-align: middle;\n",
              "    }\n",
              "\n",
              "    .dataframe tbody tr th {\n",
              "        vertical-align: top;\n",
              "    }\n",
              "\n",
              "    .dataframe thead th {\n",
              "        text-align: right;\n",
              "    }\n",
              "</style>\n",
              "<table border=\"1\" class=\"dataframe\">\n",
              "  <thead>\n",
              "    <tr style=\"text-align: right;\">\n",
              "      <th></th>\n",
              "      <th>source</th>\n",
              "      <th>english_sentence</th>\n",
              "      <th>hindi_sentence</th>\n",
              "    </tr>\n",
              "  </thead>\n",
              "  <tbody>\n",
              "    <tr>\n",
              "      <th>0</th>\n",
              "      <td>ted</td>\n",
              "      <td>politicians do not have permission to do what ...</td>\n",
              "      <td>राजनीतिज्ञों के पास जो कार्य करना चाहिए, वह कर...</td>\n",
              "    </tr>\n",
              "    <tr>\n",
              "      <th>1</th>\n",
              "      <td>ted</td>\n",
              "      <td>I'd like to tell you about one such child,</td>\n",
              "      <td>मई आपको ऐसे ही एक बच्चे के बारे में बताना चाहू...</td>\n",
              "    </tr>\n",
              "    <tr>\n",
              "      <th>2</th>\n",
              "      <td>indic2012</td>\n",
              "      <td>This percentage is even greater than the perce...</td>\n",
              "      <td>यह प्रतिशत भारत में हिन्दुओं प्रतिशत से अधिक है।</td>\n",
              "    </tr>\n",
              "    <tr>\n",
              "      <th>3</th>\n",
              "      <td>ted</td>\n",
              "      <td>what we really mean is that they're bad at not...</td>\n",
              "      <td>हम ये नहीं कहना चाहते कि वो ध्यान नहीं दे पाते</td>\n",
              "    </tr>\n",
              "    <tr>\n",
              "      <th>4</th>\n",
              "      <td>indic2012</td>\n",
              "      <td>.The ending portion of these Vedas is called U...</td>\n",
              "      <td>इन्हीं वेदों का अंतिम भाग उपनिषद कहलाता है।</td>\n",
              "    </tr>\n",
              "  </tbody>\n",
              "</table>\n",
              "</div>"
            ],
            "text/plain": [
              "      source  ...                                     hindi_sentence\n",
              "0        ted  ...  राजनीतिज्ञों के पास जो कार्य करना चाहिए, वह कर...\n",
              "1        ted  ...  मई आपको ऐसे ही एक बच्चे के बारे में बताना चाहू...\n",
              "2  indic2012  ...   यह प्रतिशत भारत में हिन्दुओं प्रतिशत से अधिक है।\n",
              "3        ted  ...     हम ये नहीं कहना चाहते कि वो ध्यान नहीं दे पाते\n",
              "4  indic2012  ...        इन्हीं वेदों का अंतिम भाग उपनिषद कहलाता है।\n",
              "\n",
              "[5 rows x 3 columns]"
            ]
          },
          "metadata": {
            "tags": []
          },
          "execution_count": 6
        }
      ]
    },
    {
      "cell_type": "code",
      "metadata": {
        "colab": {
          "base_uri": "https://localhost:8080/"
        },
        "id": "JZI83MNCg6tf",
        "outputId": "4a753a3e-47ba-4c60-bae8-6e982122c129"
      },
      "source": [
        "data['source'].value_counts()"
      ],
      "execution_count": null,
      "outputs": [
        {
          "output_type": "execute_result",
          "data": {
            "text/plain": [
              "tides        49857\n",
              "ted          38803\n",
              "indic2012    36167\n",
              "Name: source, dtype: int64"
            ]
          },
          "metadata": {
            "tags": []
          },
          "execution_count": 15
        }
      ]
    },
    {
      "cell_type": "code",
      "metadata": {
        "colab": {
          "base_uri": "https://localhost:8080/"
        },
        "id": "3K5-pssUhyga",
        "outputId": "aa522d8a-cf9c-4242-bcdc-b403f24a1581"
      },
      "source": [
        "#checking for missing values or null\n",
        "pd.isnull(data).sum()"
      ],
      "execution_count": null,
      "outputs": [
        {
          "output_type": "execute_result",
          "data": {
            "text/plain": [
              "source              0\n",
              "english_sentence    2\n",
              "hindi_sentence      0\n",
              "dtype: int64"
            ]
          },
          "metadata": {
            "tags": []
          },
          "execution_count": 10
        }
      ]
    },
    {
      "cell_type": "code",
      "metadata": {
        "id": "LMCYYna4iR5v"
      },
      "source": [
        "data = data[data['english_sentence'].notna()]"
      ],
      "execution_count": null,
      "outputs": []
    },
    {
      "cell_type": "code",
      "metadata": {
        "colab": {
          "base_uri": "https://localhost:8080/"
        },
        "id": "w5gJfQIXiZe3",
        "outputId": "67166696-977b-41d7-aed2-8bf4aafbd296"
      },
      "source": [
        "#checking for missing values or null\n",
        "pd.isnull(data).sum()"
      ],
      "execution_count": null,
      "outputs": [
        {
          "output_type": "execute_result",
          "data": {
            "text/plain": [
              "source              0\n",
              "english_sentence    0\n",
              "hindi_sentence      0\n",
              "dtype: int64"
            ]
          },
          "metadata": {
            "tags": []
          },
          "execution_count": 12
        }
      ]
    },
    {
      "cell_type": "code",
      "metadata": {
        "colab": {
          "base_uri": "https://localhost:8080/"
        },
        "id": "riLwLmKKigq_",
        "outputId": "15f71128-2aec-401e-c73e-32eae0992fa7"
      },
      "source": [
        "data.drop_duplicates(inplace=True)\n",
        "\n",
        "data.shape"
      ],
      "execution_count": null,
      "outputs": [
        {
          "output_type": "execute_result",
          "data": {
            "text/plain": [
              "(124827, 3)"
            ]
          },
          "metadata": {
            "tags": []
          },
          "execution_count": 16
        }
      ]
    },
    {
      "cell_type": "code",
      "metadata": {
        "id": "rKwCEgODizP9"
      },
      "source": [
        "#Convert to Lowercase \n",
        "data['english_sentence'] = data['english_sentence'].apply(lambda x: x.lower())\n",
        "data['hindi_sentence'] = data['hindi_sentence'].apply(lambda x: x.lower())"
      ],
      "execution_count": null,
      "outputs": []
    },
    {
      "cell_type": "code",
      "metadata": {
        "id": "MJ1BmwsUjHG9"
      },
      "source": [
        "#Removing the Quotes\n",
        "data['english_sentence'] = data['english_sentence'].apply(lambda x: re.sub(\"'\", '', x))\n",
        "data['hindi_sentence'] = data['hindi_sentence'].apply(lambda x: re.sub(\"'\", '', x))"
      ],
      "execution_count": null,
      "outputs": []
    },
    {
      "cell_type": "code",
      "metadata": {
        "id": "XU6If_DpjY6Z"
      },
      "source": [
        "data.head(10)"
      ],
      "execution_count": null,
      "outputs": []
    },
    {
      "cell_type": "code",
      "metadata": {
        "colab": {
          "base_uri": "https://localhost:8080/"
        },
        "id": "CR0g1qJMjhZn",
        "outputId": "c5468db3-a252-4f93-fa4c-46b5527be65e"
      },
      "source": [
        "#special characters\n",
        "exclude = set(string.punctuation) # Set of all special characters\n",
        "print(exclude)"
      ],
      "execution_count": null,
      "outputs": [
        {
          "output_type": "stream",
          "text": [
            "{'(', ']', '^', '#', ':', '&', '{', '}', '[', '`', '_', \"'\", '>', '+', '?', '\"', '~', '=', '<', '$', '/', '%', '.', '|', ')', '\\\\', '-', '*', ';', '@', '!', ','}\n"
          ],
          "name": "stdout"
        }
      ]
    },
    {
      "cell_type": "code",
      "metadata": {
        "id": "jpwWFYgwjvhF"
      },
      "source": [
        "# Remove all the special characters\n",
        "data['english_sentence'] = data['english_sentence'].apply(lambda sen : ''.join(char for char in sen if char not in exclude))\n",
        "data['hindi_sentence'] = data['hindi_sentence'].apply(lambda sen : ''.join(char for char in sen if char not in exclude))"
      ],
      "execution_count": null,
      "outputs": []
    },
    {
      "cell_type": "code",
      "metadata": {
        "id": "NQyBqQLUkJoK"
      },
      "source": [
        "data.head(10)"
      ],
      "execution_count": null,
      "outputs": []
    },
    {
      "cell_type": "code",
      "metadata": {
        "id": "7RDehYvxkOna"
      },
      "source": [
        "#Removing the numbers from all sentences/records\n",
        "all_digits = str.maketrans('', '', digits)\n",
        "#print(digits)\n",
        "\n",
        "data['english_sentence'] = data['english_sentence'].apply(lambda sen : sen.translate(all_digits))\n",
        "data['hindi_sentence'] = data['hindi_sentence'].apply(lambda sen : sen.translate(all_digits))\n",
        "\n",
        "data['hindi_sentence'] = data['hindi_sentence'].apply(lambda sen : re.sub(\"[१२३४५६७८९०]\", \"\", sen))"
      ],
      "execution_count": null,
      "outputs": []
    },
    {
      "cell_type": "code",
      "metadata": {
        "id": "iAgsB1FLl1gc"
      },
      "source": [
        "#removing the extra spaces\n",
        "data['english_sentence'] = data['english_sentence'].apply(lambda sen : sen.strip())\n",
        "data['hindi_sentence'] = data['hindi_sentence'].apply(lambda sen : sen.strip())\n",
        "data['english_sentence'] = data['english_sentence'].apply(lambda sen : re.sub(\" +\", \" \", sen))\n",
        "data['hindi_sentence'] = data['hindi_sentence'].apply(lambda sen : re.sub(\" +\", \" \", sen))"
      ],
      "execution_count": null,
      "outputs": []
    },
    {
      "cell_type": "code",
      "metadata": {
        "id": "D298bbg-mTAV"
      },
      "source": [
        "#adding start and end tokens in hindi sentence\n",
        "data['hindi_sentence'] = data['hindi_sentence'].apply(lambda x : 'START_ '+ x + ' _END')"
      ],
      "execution_count": null,
      "outputs": []
    },
    {
      "cell_type": "code",
      "metadata": {
        "id": "Mwk8HZzEmypO",
        "colab": {
          "base_uri": "https://localhost:8080/",
          "height": 235
        },
        "outputId": "9f8667f2-0560-40b8-9c0b-7ae2bddb6c79"
      },
      "source": [
        "data.head(6)"
      ],
      "execution_count": null,
      "outputs": [
        {
          "output_type": "execute_result",
          "data": {
            "text/html": [
              "<div>\n",
              "<style scoped>\n",
              "    .dataframe tbody tr th:only-of-type {\n",
              "        vertical-align: middle;\n",
              "    }\n",
              "\n",
              "    .dataframe tbody tr th {\n",
              "        vertical-align: top;\n",
              "    }\n",
              "\n",
              "    .dataframe thead th {\n",
              "        text-align: right;\n",
              "    }\n",
              "</style>\n",
              "<table border=\"1\" class=\"dataframe\">\n",
              "  <thead>\n",
              "    <tr style=\"text-align: right;\">\n",
              "      <th></th>\n",
              "      <th>source</th>\n",
              "      <th>english_sentence</th>\n",
              "      <th>hindi_sentence</th>\n",
              "    </tr>\n",
              "  </thead>\n",
              "  <tbody>\n",
              "    <tr>\n",
              "      <th>0</th>\n",
              "      <td>ted</td>\n",
              "      <td>politicians do not have permission to do what ...</td>\n",
              "      <td>START_ राजनीतिज्ञों के पास जो कार्य करना चाहिए...</td>\n",
              "    </tr>\n",
              "    <tr>\n",
              "      <th>1</th>\n",
              "      <td>ted</td>\n",
              "      <td>id like to tell you about one such child</td>\n",
              "      <td>START_ मई आपको ऐसे ही एक बच्चे के बारे में बता...</td>\n",
              "    </tr>\n",
              "    <tr>\n",
              "      <th>2</th>\n",
              "      <td>indic2012</td>\n",
              "      <td>this percentage is even greater than the perce...</td>\n",
              "      <td>START_ यह प्रतिशत भारत में हिन्दुओं प्रतिशत से...</td>\n",
              "    </tr>\n",
              "    <tr>\n",
              "      <th>3</th>\n",
              "      <td>ted</td>\n",
              "      <td>what we really mean is that theyre bad at not ...</td>\n",
              "      <td>START_ हम ये नहीं कहना चाहते कि वो ध्यान नहीं ...</td>\n",
              "    </tr>\n",
              "    <tr>\n",
              "      <th>4</th>\n",
              "      <td>indic2012</td>\n",
              "      <td>the ending portion of these vedas is called up...</td>\n",
              "      <td>START_ इन्हीं वेदों का अंतिम भाग उपनिषद कहलाता...</td>\n",
              "    </tr>\n",
              "    <tr>\n",
              "      <th>5</th>\n",
              "      <td>tides</td>\n",
              "      <td>the then governor of kashmir resisted transfer...</td>\n",
              "      <td>START_ कश्मीर के तत्कालीन गवर्नर ने इस हस्तांत...</td>\n",
              "    </tr>\n",
              "  </tbody>\n",
              "</table>\n",
              "</div>"
            ],
            "text/plain": [
              "      source  ...                                     hindi_sentence\n",
              "0        ted  ...  START_ राजनीतिज्ञों के पास जो कार्य करना चाहिए...\n",
              "1        ted  ...  START_ मई आपको ऐसे ही एक बच्चे के बारे में बता...\n",
              "2  indic2012  ...  START_ यह प्रतिशत भारत में हिन्दुओं प्रतिशत से...\n",
              "3        ted  ...  START_ हम ये नहीं कहना चाहते कि वो ध्यान नहीं ...\n",
              "4  indic2012  ...  START_ इन्हीं वेदों का अंतिम भाग उपनिषद कहलाता...\n",
              "5      tides  ...  START_ कश्मीर के तत्कालीन गवर्नर ने इस हस्तांत...\n",
              "\n",
              "[6 rows x 3 columns]"
            ]
          },
          "metadata": {
            "tags": []
          },
          "execution_count": 40
        }
      ]
    },
    {
      "cell_type": "code",
      "metadata": {
        "id": "P-63CPD8m2XX"
      },
      "source": [
        ""
      ],
      "execution_count": null,
      "outputs": []
    }
  ]
}